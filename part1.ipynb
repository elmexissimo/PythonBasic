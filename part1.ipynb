{
 "cells": [
  {
   "cell_type": "markdown",
   "metadata": {},
   "source": [
    "# Introduction to Python Programming\n",
    "Welcome to this introduction to Python programming! This notebook will help you learn the basics of Python, one of the most popular programming languages in the world. Let's get started!"
   ]
  },
  {
   "cell_type": "markdown",
   "metadata": {},
   "source": [
    "## What is Python?\n",
    "Python is a high-level, interpreted programming language known for its readability and simplicity. It's a great language for beginners to start with and is widely used in various fields such as web development, data science, artificial intelligence, and more."
   ]
  },
  {
   "cell_type": "markdown",
   "metadata": {},
   "source": [
    "<img width='400px' align='center' src='https://www.python.org/static/img/python-logo@2x.png'>"
   ]
  },
  {
   "cell_type": "markdown",
   "metadata": {},
   "source": [
    "Python code can be run in various ways. What you are currently using is called a Jupyter notebooks. Those notebooks combine programming commands and text editor in a way that is easy to manage for anyone.\n",
    "\n",
    "## Jupyter notebooks ##\n",
    "\n",
    "Jupyter notebooks consist of cells that contain text, Python commands, or outputs. For example, the cell below contains a command to add the numbers 3 and 4. You can run the cell by \n",
    "\n",
    "- moving your curser into the cell, e.g. click on the cell below with your mouse \n",
    "- pressing SHIFT+return to execute the cell. \n",
    "\n",
    "Another cell appears below with the output 7.\n",
    "\n",
    "*TASK: Vary the numbers and check the result.*"
   ]
  },
  {
   "cell_type": "code",
   "execution_count": 3,
   "metadata": {},
   "outputs": [
    {
     "data": {
      "text/plain": [
       "7"
      ]
     },
     "execution_count": 3,
     "metadata": {},
     "output_type": "execute_result"
    }
   ],
   "source": [
    "3+4"
   ]
  },
  {
   "cell_type": "raw",
   "metadata": {},
   "source": [
    "\n",
    "\n",
    "You can use Python like a normal pocket calculator to run mathematical calculations. Arythmetic symbols are +-*/ and ^ for exponents.\n",
    "\n",
    "*TASK: Use the cell below to calculate (3+4)/10 + 2^3*"
   ]
  },
  {
   "cell_type": "code",
   "execution_count": null,
   "metadata": {},
   "outputs": [],
   "source": []
  },
  {
   "cell_type": "markdown",
   "metadata": {},
   "source": [
    "It is sometimes helpful to print text to the output cell with the command ``print``. The argument of the command is provided in round brackets. For example ``print(\"Hello world\")`` creates the output: Hello world. The symbols \" \" are used to enclose the text.\n",
    "\n",
    "*TASK: Change the output text to: "
   ]
  },
  {
   "cell_type": "code",
   "execution_count": 5,
   "metadata": {},
   "outputs": [
    {
     "name": "stdout",
     "output_type": "stream",
     "text": [
      "Hello world\n"
     ]
    }
   ],
   "source": [
    "print(\"Hello world\")"
   ]
  },
  {
   "cell_type": "markdown",
   "metadata": {},
   "source": [
    "\n",
    "\n",
    "\n",
    "# Introduction to Python Variables\n",
    "The main subject of this notebook are variables in Python. Variables are used to store data that can be used later in a program. Let's explore how to work with variables."
   ]
  },
  {
   "cell_type": "markdown",
   "metadata": {},
   "source": [
    "## What is a Variable?\n",
    "A variable is a named location in memory that stores a value. You can use variables to store different types of data like numbers, strings, and more."
   ]
  },
  {
   "cell_type": "markdown",
   "metadata": {},
   "source": [
    "## Creating Variables\n",
    "In Python, you don't need to declare a variable type. You just assign a value to a variable, and Python will automatically figure out the type."
   ]
  },
  {
   "cell_type": "code",
   "execution_count": null,
   "metadata": {},
   "outputs": [],
   "source": [
    "# Let's create some variables\n",
    "name = \"Alice\"\n",
    "age = 10\n",
    "is_student = True\n",
    "\n",
    "# Now, let's print these variables\n",
    "print(\"Name:\", name)\n",
    "print(\"Age:\", age)\n",
    "print(\"Is a student:\", is_student)"
   ]
  },
  {
   "cell_type": "markdown",
   "metadata": {},
   "source": [
    "## Exercise 1: Creating Your Own Variables\n",
    "Now it's your turn! Create three variables of your choice and print them out. You can use any names and values you like."
   ]
  },
  {
   "cell_type": "code",
   "execution_count": null,
   "metadata": {},
   "outputs": [],
   "source": [
    "# Create your variables here\n",
    "# Example:\n",
    "# my_name = \"Bob\"\n",
    "# my_age = 12\n",
    "# my_hobby = \"Soccer\"\n",
    "\n",
    "# Print your variables\n",
    "# print(\"Name:\", my_name)\n",
    "# print(\"Age:\", my_age)\n",
    "# print(\"Hobby:\", my_hobby)"
   ]
  },
  {
   "cell_type": "markdown",
   "metadata": {},
   "source": [
    "## Variable Naming Rules\n",
    "There are some rules you need to follow when naming variables in Python:\n",
    "- Variable names must start with a letter (a-z, A-Z) or an underscore (_).\n",
    "- The rest of the name can contain letters, numbers, or underscores.\n",
    "- Variable names are case-sensitive (e.g., `age` and `Age` are different variables).\n",
    "- Avoid using Python reserved keywords as variable names (e.g., `if`, `else`, `while`)."
   ]
  },
  {
   "cell_type": "markdown",
   "metadata": {},
   "source": [
    "## Exercise 2: Naming Variables\n",
    "Try creating some variables with different names following the rules mentioned above. See what happens if you break the rules."
   ]
  },
  {
   "cell_type": "code",
   "execution_count": null,
   "metadata": {},
   "outputs": [],
   "source": [
    "# Create variables with different names\n",
    "# Try both valid and invalid names\n",
    "\n",
    "# Valid example\n",
    "valid_variable = \"I am valid\"\n",
    "print(valid_variable)\n",
    "\n",
    "# Invalid example (uncomment to see the error)\n",
    "# 2invalid_variable = \"I am invalid\""
   ]
  },
  {
   "cell_type": "markdown",
   "metadata": {},
   "source": [
    "## Reassigning Variables\n",
    "You can change the value of a variable by assigning it a new value."
   ]
  },
  {
   "cell_type": "code",
   "execution_count": null,
   "metadata": {},
   "outputs": [],
   "source": [
    "# Example of reassigning a variable\n",
    "x = 5\n",
    "print(\"Initial value of x:\", x)\n",
    "\n",
    "x = 10\n",
    "print(\"New value of x:\", x)"
   ]
  },
  {
   "cell_type": "markdown",
   "metadata": {},
   "source": [
    "## Exercise 3: Reassigning Variables\n",
    "Create a variable and assign it a value. Then change the value and print the variable after each assignment."
   ]
  },
  {
   "cell_type": "code",
   "execution_count": null,
   "metadata": {},
   "outputs": [],
   "source": [
    "# Create a variable and reassign it\n",
    "# Example:\n",
    "# my_var = 15\n",
    "# print(my_var)\n",
    "# my_var = 30\n",
    "# print(my_var)"
   ]
  },
  {
   "cell_type": "markdown",
   "metadata": {},
   "source": [
    "## Multiple Assignments\n",
    "You can assign values to multiple variables in one line."
   ]
  },
  {
   "cell_type": "code",
   "execution_count": null,
   "metadata": {},
   "outputs": [],
   "source": [
    "# Multiple assignments\n",
    "a, b, c = 1, 2, 3\n",
    "print(\"a:\", a)\n",
    "print(\"b:\", b)\n",
    "print(\"c:\", c)"
   ]
  },
  {
   "cell_type": "markdown",
   "metadata": {},
   "source": [
    "## Exercise 4: Multiple Assignments\n",
    "Assign values to three variables in one line and print them out."
   ]
  },
  {
   "cell_type": "code",
   "execution_count": null,
   "metadata": {},
   "outputs": [],
   "source": [
    "# Assign values to three variables in one line\n",
    "# Example:\n",
    "# x, y, z = \"apple\", \"banana\", \"cherry\"\n",
    "# print(x)\n",
    "# print(y)\n",
    "# print(z)"
   ]
  },
  {
   "cell_type": "markdown",
   "metadata": {},
   "source": [
    "## Variable Types\n",
    "Variables can store different types of data. Here are some common types:\n",
    "- **Integers**: Whole numbers, e.g., 1, 2, 3\n",
    "- **Floats**: Decimal numbers, e.g., 1.5, 2.7\n",
    "- **Strings**: Text, e.g., \"hello\", \"Python\"\n",
    "- **Booleans**: True or False"
   ]
  },
  {
   "cell_type": "code",
   "execution_count": null,
   "metadata": {},
   "outputs": [],
   "source": [
    "# Examples of different variable types\n",
    "an_integer = 7\n",
    "a_float = 3.14\n",
    "a_string = \"Hello, Python!\"\n",
    "a_boolean = True\n",
    "\n",
    "print(\"Integer:\", an_integer)\n",
    "print(\"Float:\", a_float)\n",
    "print(\"String:\", a_string)\n",
    "print(\"Boolean:\", a_boolean)"
   ]
  },
  {
   "cell_type": "markdown",
   "metadata": {},
   "source": [
    "## Exercise 5: Variable Types\n",
    "Create variables of different types and print them out."
   ]
  },
  {
   "cell_type": "code",
   "execution_count": null,
   "metadata": {},
   "outputs": [],
   "source": [
    "# Create variables of different types\n",
    "# Example:\n",
    "# my_int = 100\n",
    "# my_float = 25.5\n",
    "# my_string = \"Python is fun!\"\n",
    "# my_bool = False\n",
    "\n",
    "# Print the variables\n",
    "# print(my_int)\n",
    "# print(my_float)\n",
    "# print(my_string)\n",
    "# print(my_bool)"
   ]
  },
  {
   "cell_type": "markdown",
   "metadata": {},
   "source": [
    "## Type Function\n",
    "You can use the `type()` function to find out the type of a variable."
   ]
  },
  {
   "cell_type": "code",
   "execution_count": null,
   "metadata": {},
   "outputs": [],
   "source": [
    "# Using the type() function\n",
    "print(\"Type of an_integer:\", type(an_integer))\n",
    "print(\"Type of a_float:\", type(a_float))\n",
    "print(\"Type of a_string:\", type(a_string))\n",
    "print(\"Type of a_boolean:\", type(a_boolean))"
   ]
  },
  {
   "cell_type": "markdown",
   "metadata": {},
   "source": [
    "## Exercise 6: Type Function\n",
    "Create variables of different types and use the `type()` function to check their types."
   ]
  },
  {
   "cell_type": "code",
   "execution_count": null,
   "metadata": {},
   "outputs": [],
   "source": [
    "# Create variables of different types and check their types\n",
    "# Example:\n",
    "# my_var1 = 42\n",
    "# my_var2 = 3.14159\n",
    "# my_var3 = \"Hello, world!\"\n",
    "# my_var4 = True\n",
    "\n",
    "# Use the type() function\n",
    "# print(type(my_var1))\n",
    "# print(type(my_var2))\n",
    "# print(type(my_var3))\n",
    "# print(type(my_var4))"
   ]
  },
  {
   "cell_type": "markdown",
   "metadata": {},
   "source": [
    "## Conclusion\n",
    "You've learned about variables in Python! You know how to create variables, follow naming rules, reassign values, and use different data types. Keep practicing to become more comfortable with using variables in Python."
   ]
  },
  {
   "cell_type": "markdown",
   "metadata": {},
   "source": [
    "<img width='400px' align='center' src=\"variables.png\">"
   ]
  }
 ],
 "metadata": {
  "kernelspec": {
   "display_name": "Python 3 (ipykernel)",
   "language": "python",
   "name": "python3"
  },
  "language_info": {
   "codemirror_mode": {
    "name": "ipython",
    "version": 3
   },
   "file_extension": ".py",
   "mimetype": "text/x-python",
   "name": "python",
   "nbconvert_exporter": "python",
   "pygments_lexer": "ipython3",
   "version": "3.11.5"
  }
 },
 "nbformat": 4,
 "nbformat_minor": 4
}
